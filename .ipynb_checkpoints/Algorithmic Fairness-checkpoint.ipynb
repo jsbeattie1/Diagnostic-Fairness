{
 "cells": [
  {
   "cell_type": "code",
   "execution_count": 1,
   "id": "4bb2b4bd",
   "metadata": {},
   "outputs": [],
   "source": [
    "import numpy as np\n",
    "import pandas as pd"
   ]
  },
  {
   "cell_type": "code",
   "execution_count": 2,
   "id": "fe5584d6",
   "metadata": {},
   "outputs": [],
   "source": [
    "# Set up 4 groups - white low-risk (wl), white high-risk (wh), black low-risk (bl), black high-risk (bh) - with a \n",
    "# crime/recidivism predictor value that is correlated with crime propensity both directly and via correlation with race   \n",
    "# (independent of propensity):\n",
    "\n",
    "wl = np.random.normal(3.2,1,2000)\n",
    "wh = np.random.normal(5.7,1,1000)\n",
    "bl = np.random.normal(3.9,1,1000)\n",
    "bh = np.random.normal(7.3,1,2000)"
   ]
  },
  {
   "cell_type": "code",
   "execution_count": 3,
   "id": "d7816c8f",
   "metadata": {},
   "outputs": [],
   "source": [
    "# Set up crime/recidivism outcomes: those in the low-propensity category commit a crime 25% of the time, while those \n",
    "# in the high-propensity category commit a crime 75% of the time (in whatever time frame is at issue)\n",
    "\n",
    "wl_outcomes = np.random.uniform(0,1,2000)\n",
    "wl_outcomes = np.where(wl_outcomes>0.25,0,1)\n",
    "\n",
    "wh_outcomes = np.random.uniform(0,1,1000)\n",
    "wh_outcomes = np.where(wh_outcomes>0.75,0,1)\n",
    "\n",
    "bl_outcomes = np.random.uniform(0,1,1000)\n",
    "bl_outcomes = np.where(bl_outcomes>0.25,0,1)\n",
    "\n",
    "bh_outcomes = np.random.uniform(0,1,2000)\n",
    "bh_outcomes = np.where(bh_outcomes>0.75,0,1)"
   ]
  },
  {
   "cell_type": "code",
   "execution_count": 4,
   "id": "997f7b96",
   "metadata": {},
   "outputs": [],
   "source": [
    "# Make a dataframe:\n",
    "\n",
    "df_wl = pd.DataFrame({'Race':'W','Propensity':0,'Predictor':wl,'Outcome':wl_outcomes})\n",
    "df_wh = pd.DataFrame({'Race':'W','Propensity':1,'Predictor':wh,'Outcome':wh_outcomes})\n",
    "df_bl = pd.DataFrame({'Race':'B','Propensity':0,'Predictor':bl,'Outcome':bl_outcomes})\n",
    "df_bh = pd.DataFrame({'Race':'B','Propensity':1,'Predictor':bh,'Outcome':bh_outcomes})\n",
    "df = pd.concat([df_wl,df_wh,df_bl,df_bh])"
   ]
  },
  {
   "cell_type": "code",
   "execution_count": 5,
   "id": "5e22c753",
   "metadata": {},
   "outputs": [],
   "source": [
    "from sklearn.linear_model import LogisticRegression\n",
    "from sklearn.metrics import confusion_matrix\n",
    "from sklearn.metrics import accuracy_score"
   ]
  },
  {
   "cell_type": "code",
   "execution_count": 6,
   "id": "3e024e05",
   "metadata": {},
   "outputs": [],
   "source": [
    "# Predict outcomes using a logistic regression model:\n",
    "\n",
    "X = df[['Predictor']]\n",
    "y = df['Outcome']\n",
    "clf = LogisticRegression().fit(X,y)\n",
    "preds = clf.predict(X)\n",
    "df['Predictions'] = preds"
   ]
  },
  {
   "cell_type": "code",
   "execution_count": 7,
   "id": "0465fe86",
   "metadata": {},
   "outputs": [
    {
     "data": {
      "text/plain": [
       "array([[2192,  802],\n",
       "       [ 908, 2098]])"
      ]
     },
     "execution_count": 7,
     "metadata": {},
     "output_type": "execute_result"
    }
   ],
   "source": [
    "# Compare predictions to outcomes:\n",
    "\n",
    "confusion_matrix(y,preds)"
   ]
  },
  {
   "cell_type": "code",
   "execution_count": 8,
   "id": "b8dbacf7",
   "metadata": {},
   "outputs": [
    {
     "data": {
      "text/plain": [
       "0.715"
      ]
     },
     "execution_count": 8,
     "metadata": {},
     "output_type": "execute_result"
    }
   ],
   "source": [
    "accuracy_score(y,preds)"
   ]
  },
  {
   "cell_type": "code",
   "execution_count": 9,
   "id": "57362141",
   "metadata": {},
   "outputs": [
    {
     "data": {
      "text/plain": [
       "array([[2815,  185],\n",
       "       [ 285, 2715]])"
      ]
     },
     "execution_count": 9,
     "metadata": {},
     "output_type": "execute_result"
    }
   ],
   "source": [
    "# Compare predictions to actual propensities:\n",
    "\n",
    "confusion_matrix(df['Propensity'],preds)"
   ]
  },
  {
   "cell_type": "code",
   "execution_count": 10,
   "id": "a00eaaf8",
   "metadata": {},
   "outputs": [
    {
     "data": {
      "text/plain": [
       "0.9216666666666666"
      ]
     },
     "execution_count": 10,
     "metadata": {},
     "output_type": "execute_result"
    }
   ],
   "source": [
    "accuracy_score(df['Propensity'],preds)"
   ]
  },
  {
   "cell_type": "code",
   "execution_count": 11,
   "id": "a612e5ec",
   "metadata": {},
   "outputs": [],
   "source": [
    "# Note that the model predicts propensities very well, but the accuracy is substantally lower when actual outcomes\n",
    "# are used because of the additional randomness/uncertainty."
   ]
  },
  {
   "cell_type": "code",
   "execution_count": 12,
   "id": "91fd1594",
   "metadata": {},
   "outputs": [],
   "source": [
    "# Break down results by race:\n",
    "\n",
    "df_white = df[df['Race']=='W']\n",
    "df_black = df[df['Race']=='B']"
   ]
  },
  {
   "cell_type": "code",
   "execution_count": 13,
   "id": "1f5855f8",
   "metadata": {},
   "outputs": [
    {
     "data": {
      "text/plain": [
       "array([[1510,  232],\n",
       "       [ 687,  571]])"
      ]
     },
     "execution_count": 13,
     "metadata": {},
     "output_type": "execute_result"
    }
   ],
   "source": [
    "# Compare predictions to actual outcomes for whites only:\n",
    "\n",
    "cmw1 = confusion_matrix(df_white['Outcome'],df_white['Predictions'])\n",
    "cmw1"
   ]
  },
  {
   "cell_type": "code",
   "execution_count": 14,
   "id": "ab06dfb9",
   "metadata": {},
   "outputs": [
    {
     "data": {
      "text/plain": [
       "array([[ 682,  570],\n",
       "       [ 221, 1527]])"
      ]
     },
     "execution_count": 14,
     "metadata": {},
     "output_type": "execute_result"
    }
   ],
   "source": [
    "# Compare predictions to actual outcomes for blacks only:\n",
    "\n",
    "cmb1 = confusion_matrix(df_black['Outcome'],df_black['Predictions'])\n",
    "cmb1"
   ]
  },
  {
   "cell_type": "code",
   "execution_count": 15,
   "id": "09fb22a9",
   "metadata": {},
   "outputs": [],
   "source": [
    "# To bring out the differences in the confusion matrices, functions are defined for 'positive predictive value' and\n",
    "# 'false positive rate':\n",
    "\n",
    "def ppv(cm):\n",
    "    return cm[1,1]/(cm[1,1]+cm[0,1])\n",
    "\n",
    "def fp_rate(cm):\n",
    "    return cm[0,1]/(cm[0,1]+cm[0,0])"
   ]
  },
  {
   "cell_type": "code",
   "execution_count": 16,
   "id": "3428f930",
   "metadata": {},
   "outputs": [
    {
     "data": {
      "text/plain": [
       "0.7110834371108343"
      ]
     },
     "execution_count": 16,
     "metadata": {},
     "output_type": "execute_result"
    }
   ],
   "source": [
    "# Positive predictive value is nearly the same for both groups:\n",
    "\n",
    "ppv(cmw1)"
   ]
  },
  {
   "cell_type": "code",
   "execution_count": 17,
   "id": "bc6bec00",
   "metadata": {},
   "outputs": [
    {
     "data": {
      "text/plain": [
       "0.7281831187410587"
      ]
     },
     "execution_count": 17,
     "metadata": {},
     "output_type": "execute_result"
    }
   ],
   "source": [
    "ppv(cmb1)"
   ]
  },
  {
   "cell_type": "code",
   "execution_count": 18,
   "id": "443892b9",
   "metadata": {},
   "outputs": [
    {
     "data": {
      "text/plain": [
       "0.13318025258323765"
      ]
     },
     "execution_count": 18,
     "metadata": {},
     "output_type": "execute_result"
    }
   ],
   "source": [
    "# False positive rate is substantially higher for blacks:\n",
    "\n",
    "fp_rate(cmw1)"
   ]
  },
  {
   "cell_type": "code",
   "execution_count": 19,
   "id": "259e779c",
   "metadata": {},
   "outputs": [
    {
     "data": {
      "text/plain": [
       "0.45527156549520764"
      ]
     },
     "execution_count": 19,
     "metadata": {},
     "output_type": "execute_result"
    }
   ],
   "source": [
    "fp_rate(cmb1)"
   ]
  },
  {
   "cell_type": "code",
   "execution_count": 20,
   "id": "617e9e64",
   "metadata": {},
   "outputs": [
    {
     "data": {
      "text/plain": [
       "array([[1941,   59],\n",
       "       [ 256,  744]])"
      ]
     },
     "execution_count": 20,
     "metadata": {},
     "output_type": "execute_result"
    }
   ],
   "source": [
    "# Repeating the process but now for predictions compared to actual propensities:\n",
    "\n",
    "cmw2 = confusion_matrix(df_white['Propensity'],df_white['Predictions'])\n",
    "cmw2"
   ]
  },
  {
   "cell_type": "code",
   "execution_count": 21,
   "id": "4f1074ef",
   "metadata": {},
   "outputs": [
    {
     "data": {
      "text/plain": [
       "array([[ 874,  126],\n",
       "       [  29, 1971]])"
      ]
     },
     "execution_count": 21,
     "metadata": {},
     "output_type": "execute_result"
    }
   ],
   "source": [
    "cmb2 = confusion_matrix(df_black['Propensity'],df_black['Predictions'])\n",
    "cmb2"
   ]
  },
  {
   "cell_type": "code",
   "execution_count": 22,
   "id": "9895fe26",
   "metadata": {},
   "outputs": [
    {
     "data": {
      "text/plain": [
       "0.9265255292652553"
      ]
     },
     "execution_count": 22,
     "metadata": {},
     "output_type": "execute_result"
    }
   ],
   "source": [
    "# As expected, accuracy is higher - and still roughly equal - for both groups:\n",
    "\n",
    "ppv(cmw2)"
   ]
  },
  {
   "cell_type": "code",
   "execution_count": 23,
   "id": "1341d750",
   "metadata": {},
   "outputs": [
    {
     "data": {
      "text/plain": [
       "0.9399141630901288"
      ]
     },
     "execution_count": 23,
     "metadata": {},
     "output_type": "execute_result"
    }
   ],
   "source": [
    "ppv(cmb2)"
   ]
  },
  {
   "cell_type": "code",
   "execution_count": 24,
   "id": "335c68c5",
   "metadata": {},
   "outputs": [
    {
     "data": {
      "text/plain": [
       "0.0295"
      ]
     },
     "execution_count": 24,
     "metadata": {},
     "output_type": "execute_result"
    }
   ],
   "source": [
    "# The false positive rate is still proportionally much higher for blacks, but the absolute rates - and \n",
    "# absolute difference - are now much lower:\n",
    "\n",
    "fp_rate(cmw2)"
   ]
  },
  {
   "cell_type": "code",
   "execution_count": 25,
   "id": "4c37f685",
   "metadata": {},
   "outputs": [
    {
     "data": {
      "text/plain": [
       "0.126"
      ]
     },
     "execution_count": 25,
     "metadata": {},
     "output_type": "execute_result"
    }
   ],
   "source": [
    "fp_rate(cmb2)"
   ]
  },
  {
   "cell_type": "code",
   "execution_count": 26,
   "id": "3d0d2f88",
   "metadata": {},
   "outputs": [
    {
     "data": {
      "text/plain": [
       "array([[2981,   19],\n",
       "       [ 770, 2230]])"
      ]
     },
     "execution_count": 26,
     "metadata": {},
     "output_type": "execute_result"
    }
   ],
   "source": [
    "# Testing the impact of a higher threshold for crime/recidivism prediction:\n",
    "\n",
    "pos_probs = clf.predict_proba(X)[:,1]\n",
    "adj_preds = np.where(pos_probs>0.6,1,0)\n",
    "df['Adjusted Predictions'] = adj_preds\n",
    "\n",
    "# Compare adjusted predictions (with higher threshold) to actual propensities:\n",
    "\n",
    "confusion_matrix(df['Propensity'],adj_preds)"
   ]
  },
  {
   "cell_type": "code",
   "execution_count": 27,
   "id": "9384be0f",
   "metadata": {},
   "outputs": [
    {
     "data": {
      "text/plain": [
       "0.8685"
      ]
     },
     "execution_count": 27,
     "metadata": {},
     "output_type": "execute_result"
    }
   ],
   "source": [
    "# Overall accuracy declines slightly:\n",
    "\n",
    "accuracy_score(df['Propensity'],adj_preds)"
   ]
  },
  {
   "cell_type": "code",
   "execution_count": 28,
   "id": "ebfdd4d9",
   "metadata": {},
   "outputs": [],
   "source": [
    "# Breaking down results by race:\n",
    "\n",
    "df_white = df[df['Race']=='W']\n",
    "df_black = df[df['Race']=='B']"
   ]
  },
  {
   "cell_type": "code",
   "execution_count": 29,
   "id": "dac7a254",
   "metadata": {},
   "outputs": [
    {
     "data": {
      "text/plain": [
       "array([[1994,    6],\n",
       "       [ 603,  397]])"
      ]
     },
     "execution_count": 29,
     "metadata": {},
     "output_type": "execute_result"
    }
   ],
   "source": [
    "# Comparing adjusted predictions to actual propensities for whites only:\n",
    "\n",
    "cmw3 = confusion_matrix(df_white['Propensity'],df_white['Adjusted Predictions'])\n",
    "cmw3"
   ]
  },
  {
   "cell_type": "code",
   "execution_count": 30,
   "id": "1ad30675",
   "metadata": {},
   "outputs": [
    {
     "data": {
      "text/plain": [
       "array([[ 987,   13],\n",
       "       [ 167, 1833]])"
      ]
     },
     "execution_count": 30,
     "metadata": {},
     "output_type": "execute_result"
    }
   ],
   "source": [
    "# Comparing adjusted predictions to actual propensities for blacks only:\n",
    "\n",
    "cmb3 = confusion_matrix(df_black['Propensity'],df_black['Adjusted Predictions'])\n",
    "cmb3"
   ]
  },
  {
   "cell_type": "code",
   "execution_count": 31,
   "id": "0cadb7ad",
   "metadata": {},
   "outputs": [
    {
     "data": {
      "text/plain": [
       "0.9851116625310173"
      ]
     },
     "execution_count": 31,
     "metadata": {},
     "output_type": "execute_result"
    }
   ],
   "source": [
    "# The positive predictive value has increased in both groups:\n",
    "\n",
    "ppv(cmw3)"
   ]
  },
  {
   "cell_type": "code",
   "execution_count": 32,
   "id": "14afc6c1",
   "metadata": {},
   "outputs": [
    {
     "data": {
      "text/plain": [
       "0.9929577464788732"
      ]
     },
     "execution_count": 32,
     "metadata": {},
     "output_type": "execute_result"
    }
   ],
   "source": [
    "ppv(cmb3)"
   ]
  },
  {
   "cell_type": "code",
   "execution_count": 33,
   "id": "0cd8a092",
   "metadata": {},
   "outputs": [
    {
     "data": {
      "text/plain": [
       "0.003"
      ]
     },
     "execution_count": 33,
     "metadata": {},
     "output_type": "execute_result"
    }
   ],
   "source": [
    "# The false positive rate has declined dramatically in both groups, and the absolute difference is now very small. \n",
    "# (The errors have been shifted to false negatives)\n",
    "\n",
    "fp_rate(cmw3)"
   ]
  },
  {
   "cell_type": "code",
   "execution_count": 34,
   "id": "69dde042",
   "metadata": {},
   "outputs": [
    {
     "data": {
      "text/plain": [
       "0.013"
      ]
     },
     "execution_count": 34,
     "metadata": {},
     "output_type": "execute_result"
    }
   ],
   "source": [
    "fp_rate(cmb3)"
   ]
  },
  {
   "cell_type": "code",
   "execution_count": null,
   "id": "9480bb86",
   "metadata": {},
   "outputs": [],
   "source": [
    "from sklearn.model_selection import train_test_split\n",
    "from sklearn.metrics import precision_score\n",
    "from sklearn.metrics import recall_score\n",
    "from sklearn.metrics import f1_score"
   ]
  },
  {
   "cell_type": "code",
   "execution_count": 85,
   "id": "61b3e426",
   "metadata": {},
   "outputs": [],
   "source": [
    "# A slightly different approach: start with a perfectly fair predictor (i.e. with no independent association with race).\n",
    "# Specifically, 70% of high-propensity individuals have this characteristic vs. only 30% of low-propensity individuals \n",
    "\n",
    "wl2 = np.random.uniform(0,1,2000)\n",
    "wl2 = np.where(wl2>0.3,0,1)\n",
    "\n",
    "wh2 = np.random.uniform(0,1,1000)\n",
    "wh2 = np.where(wh2>0.3,1,0)\n",
    "\n",
    "bl2 = np.random.uniform(0,1,1000)\n",
    "bl2 = np.where(bl2>0.3,0,1)\n",
    "\n",
    "bh2 = np.random.uniform(0,1,2000)\n",
    "bh2 = np.where(bh2>0.3,1,0)"
   ]
  },
  {
   "cell_type": "code",
   "execution_count": 86,
   "id": "c0153649",
   "metadata": {},
   "outputs": [],
   "source": [
    "# Make a dataframe (with no 'Outcome' column this time, as focus will be exclusively on predicting propensity):\n",
    "\n",
    "df_wl2 = pd.DataFrame({'Race':'W','Propensity':0,'Predictor':wl2})\n",
    "df_wh2 = pd.DataFrame({'Race':'W','Propensity':1,'Predictor':wh2})\n",
    "df_bl2 = pd.DataFrame({'Race':'B','Propensity':0,'Predictor':bl2})\n",
    "df_bh2 = pd.DataFrame({'Race':'B','Propensity':1,'Predictor':bh2})\n",
    "df2 = pd.concat([df_wl2,df_wh2,df_bl2,df_bh2])"
   ]
  },
  {
   "cell_type": "code",
   "execution_count": 87,
   "id": "02af8030",
   "metadata": {},
   "outputs": [],
   "source": [
    "# Predict propensities using a logistic regression model:\n",
    "\n",
    "X2 = df2[['Predictor']]\n",
    "y2 = df2['Propensity']\n",
    "clf2 = LogisticRegression().fit(X2,y2)\n",
    "preds2 = clf2.predict(X2)\n",
    "df2['Predictions'] = preds2"
   ]
  },
  {
   "cell_type": "code",
   "execution_count": 88,
   "id": "f026286a",
   "metadata": {},
   "outputs": [
    {
     "data": {
      "text/plain": [
       "array([[2096,  904],\n",
       "       [ 904, 2096]])"
      ]
     },
     "execution_count": 88,
     "metadata": {},
     "output_type": "execute_result"
    }
   ],
   "source": [
    "# Compare predictions to propensities:\n",
    "\n",
    "confusion_matrix(y2,preds2)"
   ]
  },
  {
   "cell_type": "code",
   "execution_count": 89,
   "id": "f7166997",
   "metadata": {},
   "outputs": [
    {
     "data": {
      "text/plain": [
       "0.6986666666666667"
      ]
     },
     "execution_count": 89,
     "metadata": {},
     "output_type": "execute_result"
    }
   ],
   "source": [
    "accuracy_score(y2,preds2)"
   ]
  },
  {
   "cell_type": "code",
   "execution_count": 90,
   "id": "08e313e4",
   "metadata": {},
   "outputs": [
    {
     "data": {
      "text/plain": [
       "0.6986666666666667"
      ]
     },
     "execution_count": 90,
     "metadata": {},
     "output_type": "execute_result"
    }
   ],
   "source": [
    "ppv(confusion_matrix(y2,preds2))"
   ]
  },
  {
   "cell_type": "code",
   "execution_count": 91,
   "id": "0f56666c",
   "metadata": {},
   "outputs": [
    {
     "data": {
      "text/plain": [
       "0.30133333333333334"
      ]
     },
     "execution_count": 91,
     "metadata": {},
     "output_type": "execute_result"
    }
   ],
   "source": [
    "fp_rate(confusion_matrix(y2,preds2))"
   ]
  },
  {
   "cell_type": "code",
   "execution_count": 92,
   "id": "9c9f2c61",
   "metadata": {},
   "outputs": [],
   "source": [
    "# Break down results by race:\n",
    "\n",
    "df2_white = df2[df2['Race']=='W']\n",
    "df2_black = df2[df2['Race']=='B']"
   ]
  },
  {
   "cell_type": "code",
   "execution_count": 93,
   "id": "d10dc194",
   "metadata": {},
   "outputs": [
    {
     "data": {
      "text/plain": [
       "0.6986666666666667"
      ]
     },
     "execution_count": 93,
     "metadata": {},
     "output_type": "execute_result"
    }
   ],
   "source": [
    "# Accuracy scores are essentially equal:\n",
    "\n",
    "accuracy_score(df2_white['Propensity'],df2_white['Predictions'])"
   ]
  },
  {
   "cell_type": "code",
   "execution_count": 94,
   "id": "61a85f9e",
   "metadata": {},
   "outputs": [
    {
     "data": {
      "text/plain": [
       "0.6986666666666667"
      ]
     },
     "execution_count": 94,
     "metadata": {},
     "output_type": "execute_result"
    }
   ],
   "source": [
    "accuracy_score(df2_black['Propensity'],df2_black['Predictions'])"
   ]
  },
  {
   "cell_type": "code",
   "execution_count": 95,
   "id": "0bce5792",
   "metadata": {},
   "outputs": [
    {
     "data": {
      "text/plain": [
       "0.536697247706422"
      ]
     },
     "execution_count": 95,
     "metadata": {},
     "output_type": "execute_result"
    }
   ],
   "source": [
    "# Positive predictive value is NOT equal (due to base rate differences):\n",
    "\n",
    "ppv(confusion_matrix(df2_white['Propensity'],df2_white['Predictions']))"
   ]
  },
  {
   "cell_type": "code",
   "execution_count": 96,
   "id": "acaa06fc",
   "metadata": {},
   "outputs": [
    {
     "data": {
      "text/plain": [
       "0.8238770685579196"
      ]
     },
     "execution_count": 96,
     "metadata": {},
     "output_type": "execute_result"
    }
   ],
   "source": [
    "ppv(confusion_matrix(df2_black['Propensity'],df2_black['Predictions']))"
   ]
  },
  {
   "cell_type": "code",
   "execution_count": 97,
   "id": "4e291417",
   "metadata": {},
   "outputs": [
    {
     "data": {
      "text/plain": [
       "0.303"
      ]
     },
     "execution_count": 97,
     "metadata": {},
     "output_type": "execute_result"
    }
   ],
   "source": [
    "# False positive rates are essentially equal (reflecting the fairness of the predictor):\n",
    "\n",
    "fp_rate(confusion_matrix(df2_white['Propensity'],df2_white['Predictions']))"
   ]
  },
  {
   "cell_type": "code",
   "execution_count": 98,
   "id": "8ca61480",
   "metadata": {},
   "outputs": [
    {
     "data": {
      "text/plain": [
       "0.298"
      ]
     },
     "execution_count": 98,
     "metadata": {},
     "output_type": "execute_result"
    }
   ],
   "source": [
    "fp_rate(confusion_matrix(df2_black['Propensity'],df2_black['Predictions']))"
   ]
  },
  {
   "cell_type": "code",
   "execution_count": 99,
   "id": "f77b826a",
   "metadata": {},
   "outputs": [],
   "source": [
    "# Now, add a predictor that is correlated WITH RACE ONLY (not propensity):\n",
    "\n",
    "df_wl2['Race Predictor'] = np.random.normal(2,1,2000)\n",
    "df_wh2['Race Predictor'] = np.random.normal(2,1,1000)\n",
    "df_bl2['Race Predictor'] = np.random.normal(5,1,1000)\n",
    "df_bh2['Race Predictor'] = np.random.normal(5,1,2000)\n",
    "df3 = pd.concat([df_wl2,df_wh2,df_bl2,df_bh2])"
   ]
  },
  {
   "cell_type": "code",
   "execution_count": 100,
   "id": "89bb0565",
   "metadata": {},
   "outputs": [],
   "source": [
    "# Predict propensities using a logistic regression model with this new predictor included:\n",
    "\n",
    "X3 = df3[['Predictor','Race Predictor']]\n",
    "y3 = df3['Propensity']\n",
    "clf3 = LogisticRegression().fit(X3,y3)\n",
    "preds3 = clf3.predict(X3)\n",
    "df3['Predictions'] = preds3"
   ]
  },
  {
   "cell_type": "code",
   "execution_count": 101,
   "id": "ab9794a8",
   "metadata": {},
   "outputs": [
    {
     "data": {
      "text/plain": [
       "array([[2089,  911],\n",
       "       [ 910, 2090]])"
      ]
     },
     "execution_count": 101,
     "metadata": {},
     "output_type": "execute_result"
    }
   ],
   "source": [
    "# Compare predictions to propensities:\n",
    "\n",
    "confusion_matrix(y3,preds3)"
   ]
  },
  {
   "cell_type": "code",
   "execution_count": 102,
   "id": "b00f8655",
   "metadata": {},
   "outputs": [
    {
     "data": {
      "text/plain": [
       "0.6965"
      ]
     },
     "execution_count": 102,
     "metadata": {},
     "output_type": "execute_result"
    }
   ],
   "source": [
    "accuracy_score(y3,preds3)"
   ]
  },
  {
   "cell_type": "code",
   "execution_count": 103,
   "id": "4f5bad21",
   "metadata": {},
   "outputs": [
    {
     "data": {
      "text/plain": [
       "0.696434521826058"
      ]
     },
     "execution_count": 103,
     "metadata": {},
     "output_type": "execute_result"
    }
   ],
   "source": [
    "ppv(confusion_matrix(y3,preds3))"
   ]
  },
  {
   "cell_type": "code",
   "execution_count": 105,
   "id": "1fde12c6",
   "metadata": {},
   "outputs": [
    {
     "data": {
      "text/plain": [
       "0.30366666666666664"
      ]
     },
     "execution_count": 105,
     "metadata": {},
     "output_type": "execute_result"
    }
   ],
   "source": [
    "fp_rate(confusion_matrix(y3,preds3))"
   ]
  },
  {
   "cell_type": "code",
   "execution_count": 106,
   "id": "eb323b43",
   "metadata": {},
   "outputs": [],
   "source": [
    "# Break down results by race:\n",
    "\n",
    "df3_white = df3[df3['Race']=='W']\n",
    "df3_black = df3[df3['Race']=='B']"
   ]
  },
  {
   "cell_type": "code",
   "execution_count": 107,
   "id": "89d96d04",
   "metadata": {},
   "outputs": [
    {
     "data": {
      "text/plain": [
       "0.6946666666666667"
      ]
     },
     "execution_count": 107,
     "metadata": {},
     "output_type": "execute_result"
    }
   ],
   "source": [
    "accuracy_score(df3_white['Propensity'],df3_white['Predictions'])"
   ]
  },
  {
   "cell_type": "code",
   "execution_count": 108,
   "id": "6f39f783",
   "metadata": {},
   "outputs": [
    {
     "data": {
      "text/plain": [
       "0.6983333333333334"
      ]
     },
     "execution_count": 108,
     "metadata": {},
     "output_type": "execute_result"
    }
   ],
   "source": [
    "accuracy_score(df3_black['Propensity'],df3_black['Predictions'])"
   ]
  },
  {
   "cell_type": "code",
   "execution_count": 109,
   "id": "43915033",
   "metadata": {},
   "outputs": [
    {
     "data": {
      "text/plain": [
       "0.5375"
      ]
     },
     "execution_count": 109,
     "metadata": {},
     "output_type": "execute_result"
    }
   ],
   "source": [
    "# Positive predictive values are now a bit closer together:\n",
    "\n",
    "ppv(confusion_matrix(df3_white['Propensity'],df3_white['Predictions']))"
   ]
  },
  {
   "cell_type": "code",
   "execution_count": 110,
   "id": "6236f645",
   "metadata": {},
   "outputs": [
    {
     "data": {
      "text/plain": [
       "0.7910685805422647"
      ]
     },
     "execution_count": 110,
     "metadata": {},
     "output_type": "execute_result"
    }
   ],
   "source": [
    "ppv(confusion_matrix(df3_black['Propensity'],df3_black['Predictions']))"
   ]
  },
  {
   "cell_type": "code",
   "execution_count": 111,
   "id": "da5b751a",
   "metadata": {},
   "outputs": [
    {
     "data": {
      "text/plain": [
       "0.259"
      ]
     },
     "execution_count": 111,
     "metadata": {},
     "output_type": "execute_result"
    }
   ],
   "source": [
    "# False positive rates are starting to diverge (increasing for blacks, decreasing for whites):\n",
    "\n",
    "fp_rate(confusion_matrix(df3_white['Propensity'],df3_white['Predictions']))"
   ]
  },
  {
   "cell_type": "code",
   "execution_count": 112,
   "id": "176c3f45",
   "metadata": {},
   "outputs": [
    {
     "data": {
      "text/plain": [
       "0.393"
      ]
     },
     "execution_count": 112,
     "metadata": {},
     "output_type": "execute_result"
    }
   ],
   "source": [
    "fp_rate(confusion_matrix(df3_black['Propensity'],df3_black['Predictions']))"
   ]
  },
  {
   "cell_type": "code",
   "execution_count": null,
   "id": "e6f680fb",
   "metadata": {},
   "outputs": [],
   "source": []
  }
 ],
 "metadata": {
  "kernelspec": {
   "display_name": "Python 3 (ipykernel)",
   "language": "python",
   "name": "python3"
  },
  "language_info": {
   "codemirror_mode": {
    "name": "ipython",
    "version": 3
   },
   "file_extension": ".py",
   "mimetype": "text/x-python",
   "name": "python",
   "nbconvert_exporter": "python",
   "pygments_lexer": "ipython3",
   "version": "3.11.0"
  }
 },
 "nbformat": 4,
 "nbformat_minor": 5
}
